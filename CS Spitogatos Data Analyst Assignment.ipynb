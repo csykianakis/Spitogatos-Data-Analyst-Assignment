{
 "cells": [
  {
   "cell_type": "markdown",
   "id": "d2961e4c-89e2-477f-a177-8a2b65f3c71c",
   "metadata": {},
   "source": [
    "# Spitogatos Data Analyst Assignment\n",
    "## By Charalampos Sykianakis\n",
    "### email: c.sykianakis@gmail.com\n",
   ]
  },
  {
   "cell_type": "code",
   "execution_count": null,
   "id": "7610a748-26fd-4fe2-b1fa-2e5bd6a22b59",
   "metadata": {},
   "outputs": [],
   "source": [
    "import pandas as pd\n",
    "import matplotlib.pyplot as plt"
   ]
  },
  {
   "cell_type": "code",
   "execution_count": 468,
   "id": "13cd52e5-8066-45a3-9743-3484bc9fec75",
   "metadata": {},
   "outputs": [],
   "source": [
    "df = pd.read_csv('assignment_rev2.csv')"
   ]
  },
  {
   "cell_type": "markdown",
   "id": "3f494d4c-a779-43b7-817a-33cb150e9910",
   "metadata": {},
   "source": [
    "### First we need to find all the duplicates properties that have been uploaded by multiple real estate agents."
   ]
  },
  {
   "cell_type": "code",
   "execution_count": 469,
   "id": "dac95fb6-f4d6-429f-91c0-1f17dd5c8e0e",
   "metadata": {},
   "outputs": [],
   "source": [
    "df['key'] = \"\"\n",
    "\n",
    "lista = ['geography_name','sq_meters','price',\n",
    "         'year_of_construction','floor','subtype','rooms',\n",
    "         'no_of_bathrooms',\t'energy_class',\t'renovation_year',\n",
    "         'no_of_wc','ad_type','living_rooms','kitchens','balcony_area']\n",
    "\n",
    "for i in lista:\n",
    "    df['key'] = df['key'] + df[i].astype(str)"
   ]
  },
  {
   "cell_type": "code",
   "execution_count": 470,
   "id": "cf36db78-9bd9-4f69-89f2-b680f113314c",
   "metadata": {},
   "outputs": [],
   "source": [
    "df = df.drop_duplicates(subset='key')"
   ]
  },
  {
   "cell_type": "markdown",
   "id": "4fd1759d-df80-40e4-bd43-ece1e0edd2a4",
   "metadata": {},
   "source": [
    "### Assignment Part #1"
   ]
  },
  {
   "cell_type": "code",
   "execution_count": 471,
   "id": "0c7e3674-942b-4c97-b2b8-f8ae160fce98",
   "metadata": {},
   "outputs": [
    {
     "data": {
      "image/png": "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\n",
      "text/plain": [
       "<Figure size 640x480 with 1 Axes>"
      ]
     },
     "metadata": {
      "needs_background": "light"
     },
     "output_type": "display_data"
    }
   ],
   "source": [
    "from matplotlib.pyplot import figure\n",
    "\n",
    "figure(figsize=(8, 6), dpi=80)\n",
    "plt.scatter(df['geography_name'], df['price'])\n",
    "plt.show()"
   ]
  },
  {
   "cell_type": "markdown",
   "id": "5577d8a8-5a20-4fec-8b0d-ab7f4bbbedcc",
   "metadata": {},
   "source": [
    "### Easily by ploting the prices of our data by geography_name, we can see that we have few outliers which would corrupt the right image of the price levels of each area.\n",
    "### So we will exclude those values from our dataset"
   ]
  },
  {
   "cell_type": "code",
   "execution_count": 472,
   "id": "db12d115-6601-47b3-89ac-423ea5ad53d9",
   "metadata": {},
   "outputs": [],
   "source": [
    "df_in = df[df['geography_name'] == 'northern sub'].sort_values(by=['price'])\n",
    "df_in.tail(2)\n",
    "df = df.drop(df[df.id == 42344599].index)"
   ]
  },
  {
   "cell_type": "code",
   "execution_count": 473,
   "id": "2471ba23-44e7-45d0-a0d5-517b9966f617",
   "metadata": {},
   "outputs": [],
   "source": [
    "df_in = df[df['geography_name'] == 'south beach'].sort_values(by=['price'])\n",
    "df_in.tail(2)\n",
    "df = df.drop(df[df.id == 42420101].index)\n",
    "df = df.drop(df[df.id == 42617908].index)"
   ]
  },
  {
   "cell_type": "code",
   "execution_count": 474,
   "id": "07cad4e2-a428-4d73-a8cd-03bf7b5bb6c6",
   "metadata": {},
   "outputs": [],
   "source": [
    "df_in = df[df['geography_name'] == 'gentrification area'].sort_values(by=['price'])\n",
    "df_in.tail(2)\n",
    "df = df.drop(df[df.id == 42270309].index)\n",
    "df = df.drop(df[df.id == 43009508].index)"
   ]
  },
  {
   "cell_type": "markdown",
   "id": "d8fc0d44-5bd3-4881-b868-c72f76fde29a",
   "metadata": {},
   "source": [
    "### Now we should check for any strange for example few sq_meters and very high prices"
   ]
  },
  {
   "cell_type": "code",
   "execution_count": 475,
   "id": "1eeee747-3f91-408b-ab47-4e1fc06062a8",
   "metadata": {},
   "outputs": [],
   "source": [
    "df_ordered = df.sort_values(by=['price'])"
   ]
  },
  {
   "cell_type": "code",
   "execution_count": 476,
   "id": "56bf10c6-b9d1-47a6-b08b-bca566ab9bad",
   "metadata": {},
   "outputs": [],
   "source": [
    "# df_ordered.head(50)"
   ]
  },
  {
   "cell_type": "markdown",
   "id": "6350c744-56e0-485d-b18b-d27dedd1018c",
   "metadata": {},
   "source": [
    "### By checking the data i will estimate that a logical price for a small place could be 8000$ for 26 m^2\n",
    "### So i am going to set my limit there and i will exclude all the properties with values from 0-900 dollars"
   ]
  },
  {
   "cell_type": "code",
   "execution_count": 477,
   "id": "d4df7b2a-7056-4754-bf8a-bf0fb1076d8f",
   "metadata": {},
   "outputs": [],
   "source": [
    "df = df[ (df['price'] >= 7999)]"
   ]
  },
  {
   "cell_type": "code",
   "execution_count": 478,
   "id": "c1fe0eb8-2fd3-4c44-82eb-974d033e6686",
   "metadata": {},
   "outputs": [],
   "source": [
    "df_ordered = df.sort_values(by=['sq_meters'])"
   ]
  },
  {
   "cell_type": "code",
   "execution_count": 479,
   "id": "e1027693-44df-40e7-b1e8-e5ecccf83761",
   "metadata": {},
   "outputs": [],
   "source": [
    "# df_ordered.head(10)"
   ]
  },
  {
   "cell_type": "markdown",
   "id": "957641ab-46f1-4bde-b09f-5c5f437a3514",
   "metadata": {},
   "source": [
    "### Here by filtering through the sq_meters the top values look normal.\n",
    "### But the we have 2 bottom values that doesnt look logical.\n",
    "### 1st: 1 m^2 for 620,000$ and 2nd: 10 m^2 for $2,500,000\n",
    "### So i am going to exlude those values too."
   ]
  },
  {
   "cell_type": "code",
   "execution_count": 480,
   "id": "44079bad-5e65-4b46-acca-3562b72c0e4e",
   "metadata": {},
   "outputs": [],
   "source": [
    "df = df.drop(df[df.id == 35421691].index)\n",
    "df = df.drop(df[df.id == 43078274].index)"
   ]
  },
  {
   "cell_type": "markdown",
   "id": "5da2213d-45bb-4859-9d57-d205e6b6ac58",
   "metadata": {},
   "source": [
    "### Now that our data is clear we are going to calculate the metrics we are asked"
   ]
  },
  {
   "cell_type": "code",
   "execution_count": 482,
   "id": "09898343-a82c-4c4d-9973-a6dc83968592",
   "metadata": {},
   "outputs": [],
   "source": [
    "index = ['northern sub', 'beesy neighborhood','gentrification area', 'south beach']\n",
    "\n",
    "df_1_per_geography_name = pd.DataFrame(columns=['Mean', 'Median', 'Standard Deviation'], index = index)\n",
    "# df_1_per_geography_name"
   ]
  },
  {
   "cell_type": "code",
   "execution_count": 483,
   "id": "1d94c9cd-947d-474f-b353-ccd7a535f0d9",
   "metadata": {},
   "outputs": [],
   "source": [
    "df_in = df[df['geography_name'] == 'northern sub']\n",
    "df_1_per_geography_name['Mean'][0] = df_in['price'].mean()\n",
    "df_1_per_geography_name['Median'][0] = df_in['price'].median()\n",
    "df_1_per_geography_name['Standard Deviation'][0] = df_in['price'].std()\n",
    "\n",
    "df_in = df[df['geography_name'] == 'beesy neighborhood']\n",
    "df_1_per_geography_name['Mean'][1] = df_in['price'].mean()\n",
    "df_1_per_geography_name['Median'][1] = df_in['price'].median()\n",
    "df_1_per_geography_name['Standard Deviation'][1] = df_in['price'].std()\n",
    "\n",
    "df_in = df[df['geography_name'] == 'gentrification area']\n",
    "df_1_per_geography_name['Mean'][2] = df_in['price'].mean()\n",
    "df_1_per_geography_name['Median'][2] = df_in['price'].median()\n",
    "df_1_per_geography_name['Standard Deviation'][2] = df_in['price'].std()\n",
    "\n",
    "df_in = df[df['geography_name'] == 'south beach']\n",
    "df_1_per_geography_name['Mean'][3] = df_in['price'].mean()\n",
    "df_1_per_geography_name['Median'][3] = df_in['price'].median()\n",
    "df_1_per_geography_name['Standard Deviation'][3] = df_in['price'].std()"
   ]
  },
  {
   "cell_type": "code",
   "execution_count": 484,
   "id": "53986671-46b9-454e-b602-7f512fdbcf27",
   "metadata": {},
   "outputs": [
    {
     "data": {
      "text/html": [
       "<div>\n",
       "<style scoped>\n",
       "    .dataframe tbody tr th:only-of-type {\n",
       "        vertical-align: middle;\n",
       "    }\n",
       "\n",
       "    .dataframe tbody tr th {\n",
       "        vertical-align: top;\n",
       "    }\n",
       "\n",
       "    .dataframe thead th {\n",
       "        text-align: right;\n",
       "    }\n",
       "</style>\n",
       "<table border=\"1\" class=\"dataframe\">\n",
       "  <thead>\n",
       "    <tr style=\"text-align: right;\">\n",
       "      <th></th>\n",
       "      <th>Mean</th>\n",
       "      <th>Median</th>\n",
       "      <th>Standard Deviation</th>\n",
       "    </tr>\n",
       "  </thead>\n",
       "  <tbody>\n",
       "    <tr>\n",
       "      <th>northern sub</th>\n",
       "      <td>810316.990388</td>\n",
       "      <td>580000.0</td>\n",
       "      <td>819929.975581</td>\n",
       "    </tr>\n",
       "    <tr>\n",
       "      <th>beesy neighborhood</th>\n",
       "      <td>140101.655629</td>\n",
       "      <td>98000.0</td>\n",
       "      <td>173672.320342</td>\n",
       "    </tr>\n",
       "    <tr>\n",
       "      <th>gentrification area</th>\n",
       "      <td>252412.4847</td>\n",
       "      <td>190000.0</td>\n",
       "      <td>261430.177554</td>\n",
       "    </tr>\n",
       "    <tr>\n",
       "      <th>south beach</th>\n",
       "      <td>628571.945795</td>\n",
       "      <td>430000.0</td>\n",
       "      <td>609642.932631</td>\n",
       "    </tr>\n",
       "  </tbody>\n",
       "</table>\n",
       "</div>"
      ],
      "text/plain": [
       "                              Mean    Median Standard Deviation\n",
       "northern sub         810316.990388  580000.0      819929.975581\n",
       "beesy neighborhood   140101.655629   98000.0      173672.320342\n",
       "gentrification area    252412.4847  190000.0      261430.177554\n",
       "south beach          628571.945795  430000.0      609642.932631"
      ]
     },
     "execution_count": 484,
     "metadata": {},
     "output_type": "execute_result"
    }
   ],
   "source": [
    "df_1_per_geography_name"
   ]
  },
  {
   "cell_type": "code",
   "execution_count": 485,
   "id": "bbe12ac1-c4e4-4560-ba2d-f4dca95984eb",
   "metadata": {},
   "outputs": [
    {
     "data": {
      "image/png": "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\n",
      "text/plain": [
       "<Figure size 1080x576 with 1 Axes>"
      ]
     },
     "metadata": {
      "needs_background": "light"
     },
     "output_type": "display_data"
    }
   ],
   "source": [
    "ax = df_1_per_geography_name.plot.barh( figsize=(15, 8))"
   ]
  },
  {
   "cell_type": "code",
   "execution_count": 486,
   "id": "ba1a5926-a155-4887-ac74-5089dfd95f7e",
   "metadata": {},
   "outputs": [],
   "source": [
    "# df['subtype'].unique()"
   ]
  },
  {
   "cell_type": "code",
   "execution_count": 487,
   "id": "7862efe0-1d8c-4edf-a7cf-3f12fc341b1d",
   "metadata": {},
   "outputs": [],
   "source": [
    "lista_subtype = ['apartment', 'detached', 'maisonette', 'building', 'villa',\n",
    "                 'other residential', 'studio', 'apartment complex', 'loft',\n",
    "                 'bungalow']\n",
    "\n",
    "df_1_per_subtype = pd.DataFrame(columns=['Mean', 'Median', 'Standard Deviation'], index = lista_subtype)\n"
   ]
  },
  {
   "cell_type": "code",
   "execution_count": 488,
   "id": "1f06ec11-5ae6-4836-9b13-f0ba8a2adb17",
   "metadata": {},
   "outputs": [],
   "source": [
    "for i in range(0,10):\n",
    "    df_in = df[df['subtype'] == df_1_per_subtype.index[i]]\n",
    "    df_1_per_subtype['Mean'][i] = df_in['price'].mean()\n",
    "    df_1_per_subtype['Median'][i] = df_in['price'].median()\n",
    "    df_1_per_subtype['Standard Deviation'][i] = df_in['price'].std()\n",
    "    \n"
   ]
  },
  {
   "cell_type": "code",
   "execution_count": 489,
   "id": "9e6548ec-2254-4094-9702-8326f710efc1",
   "metadata": {},
   "outputs": [
    {
     "data": {
      "text/html": [
       "<div>\n",
       "<style scoped>\n",
       "    .dataframe tbody tr th:only-of-type {\n",
       "        vertical-align: middle;\n",
       "    }\n",
       "\n",
       "    .dataframe tbody tr th {\n",
       "        vertical-align: top;\n",
       "    }\n",
       "\n",
       "    .dataframe thead th {\n",
       "        text-align: right;\n",
       "    }\n",
       "</style>\n",
       "<table border=\"1\" class=\"dataframe\">\n",
       "  <thead>\n",
       "    <tr style=\"text-align: right;\">\n",
       "      <th></th>\n",
       "      <th>Mean</th>\n",
       "      <th>Median</th>\n",
       "      <th>Standard Deviation</th>\n",
       "    </tr>\n",
       "  </thead>\n",
       "  <tbody>\n",
       "    <tr>\n",
       "      <th>apartment</th>\n",
       "      <td>360066.09174</td>\n",
       "      <td>290000.0</td>\n",
       "      <td>321734.772267</td>\n",
       "    </tr>\n",
       "    <tr>\n",
       "      <th>detached</th>\n",
       "      <td>1149492.260274</td>\n",
       "      <td>890000.0</td>\n",
       "      <td>985004.942889</td>\n",
       "    </tr>\n",
       "    <tr>\n",
       "      <th>maisonette</th>\n",
       "      <td>770295.638346</td>\n",
       "      <td>620000.0</td>\n",
       "      <td>496778.998907</td>\n",
       "    </tr>\n",
       "    <tr>\n",
       "      <th>building</th>\n",
       "      <td>1260218.404908</td>\n",
       "      <td>750000.0</td>\n",
       "      <td>1396609.729628</td>\n",
       "    </tr>\n",
       "    <tr>\n",
       "      <th>villa</th>\n",
       "      <td>2155214.285714</td>\n",
       "      <td>1750000.0</td>\n",
       "      <td>1645760.270875</td>\n",
       "    </tr>\n",
       "    <tr>\n",
       "      <th>other residential</th>\n",
       "      <td>1241100.0</td>\n",
       "      <td>665000.0</td>\n",
       "      <td>1515259.497481</td>\n",
       "    </tr>\n",
       "    <tr>\n",
       "      <th>studio</th>\n",
       "      <td>57008.522727</td>\n",
       "      <td>50000.0</td>\n",
       "      <td>41970.788291</td>\n",
       "    </tr>\n",
       "    <tr>\n",
       "      <th>apartment complex</th>\n",
       "      <td>1784300.0</td>\n",
       "      <td>1200000.0</td>\n",
       "      <td>1939992.018183</td>\n",
       "    </tr>\n",
       "    <tr>\n",
       "      <th>loft</th>\n",
       "      <td>530916.666667</td>\n",
       "      <td>347000.0</td>\n",
       "      <td>349686.212153</td>\n",
       "    </tr>\n",
       "    <tr>\n",
       "      <th>bungalow</th>\n",
       "      <td>66500.0</td>\n",
       "      <td>66500.0</td>\n",
       "      <td>2121.320344</td>\n",
       "    </tr>\n",
       "  </tbody>\n",
       "</table>\n",
       "</div>"
      ],
      "text/plain": [
       "                             Mean     Median Standard Deviation\n",
       "apartment            360066.09174   290000.0      321734.772267\n",
       "detached           1149492.260274   890000.0      985004.942889\n",
       "maisonette          770295.638346   620000.0      496778.998907\n",
       "building           1260218.404908   750000.0     1396609.729628\n",
       "villa              2155214.285714  1750000.0     1645760.270875\n",
       "other residential       1241100.0   665000.0     1515259.497481\n",
       "studio               57008.522727    50000.0       41970.788291\n",
       "apartment complex       1784300.0  1200000.0     1939992.018183\n",
       "loft                530916.666667   347000.0      349686.212153\n",
       "bungalow                  66500.0    66500.0        2121.320344"
      ]
     },
     "execution_count": 489,
     "metadata": {},
     "output_type": "execute_result"
    }
   ],
   "source": [
    "df_1_per_subtype"
   ]
  },
  {
   "cell_type": "code",
   "execution_count": 490,
   "id": "b7652f1c-be2c-463b-9ffa-3e1327224e76",
   "metadata": {},
   "outputs": [
    {
     "data": {
      "image/png": "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\n",
      "text/plain": [
       "<Figure size 1080x576 with 1 Axes>"
      ]
     },
     "metadata": {
      "needs_background": "light"
     },
     "output_type": "display_data"
    }
   ],
   "source": [
    "ax = df_1_per_subtype.plot.barh( figsize=(15, 8))"
   ]
  },
  {
   "cell_type": "code",
   "execution_count": null,
   "id": "1e190a91-2651-41d6-80e8-35a3522cb045",
   "metadata": {},
   "outputs": [],
   "source": []
  },
  {
   "cell_type": "markdown",
   "id": "78fc62a7-5fc8-4989-bed6-f47066eb138b",
   "metadata": {},
   "source": [
    "### Assignment Part #3"
   ]
  },
  {
   "cell_type": "markdown",
   "id": "b9801c07-ee88-48ba-abd0-9caaba3b5880",
   "metadata": {},
   "source": [
    "### Identify the most important attributes in predicting the price of a property"
   ]
  },
  {
   "cell_type": "code",
   "execution_count": 491,
   "id": "385bf866-14f1-4234-9226-96e5499dd109",
   "metadata": {},
   "outputs": [],
   "source": [
    "df_reg = df.drop(['id', 'ranking_score', 'agent_id','key'], axis=1)"
   ]
  },
  {
   "cell_type": "code",
   "execution_count": 492,
   "id": "cba0fb69-aa25-4ccb-aa1c-ab44ba203372",
   "metadata": {},
   "outputs": [],
   "source": [
    "### Moving Price as the last column of our dataset"
   ]
  },
  {
   "cell_type": "code",
   "execution_count": 493,
   "id": "b57e0b13-05f6-4194-aec5-55022c937c67",
   "metadata": {},
   "outputs": [
    {
     "data": {
      "text/html": [
       "<div>\n",
       "<style scoped>\n",
       "    .dataframe tbody tr th:only-of-type {\n",
       "        vertical-align: middle;\n",
       "    }\n",
       "\n",
       "    .dataframe tbody tr th {\n",
       "        vertical-align: top;\n",
       "    }\n",
       "\n",
       "    .dataframe thead th {\n",
       "        text-align: right;\n",
       "    }\n",
       "</style>\n",
       "<table border=\"1\" class=\"dataframe\">\n",
       "  <thead>\n",
       "    <tr style=\"text-align: right;\">\n",
       "      <th></th>\n",
       "      <th>geography_name</th>\n",
       "      <th>sq_meters</th>\n",
       "      <th>price</th>\n",
       "      <th>year_of_construction</th>\n",
       "      <th>floor</th>\n",
       "      <th>subtype</th>\n",
       "      <th>rooms</th>\n",
       "      <th>no_of_bathrooms</th>\n",
       "      <th>energy_class</th>\n",
       "      <th>renovation_year</th>\n",
       "      <th>...</th>\n",
       "      <th>neoclassic</th>\n",
       "      <th>double_glass</th>\n",
       "      <th>for_commercial_use</th>\n",
       "      <th>fireplace</th>\n",
       "      <th>elevator</th>\n",
       "      <th>satellite</th>\n",
       "      <th>solar_heater</th>\n",
       "      <th>attic</th>\n",
       "      <th>pool</th>\n",
       "      <th>playroom</th>\n",
       "    </tr>\n",
       "  </thead>\n",
       "  <tbody>\n",
       "    <tr>\n",
       "      <th>0</th>\n",
       "      <td>northern sub</td>\n",
       "      <td>567</td>\n",
       "      <td>200000</td>\n",
       "      <td>2005</td>\n",
       "      <td>1</td>\n",
       "      <td>apartment</td>\n",
       "      <td>4</td>\n",
       "      <td>0</td>\n",
       "      <td>NaN</td>\n",
       "      <td>NaN</td>\n",
       "      <td>...</td>\n",
       "      <td>NaN</td>\n",
       "      <td>NaN</td>\n",
       "      <td>NaN</td>\n",
       "      <td>NaN</td>\n",
       "      <td>NaN</td>\n",
       "      <td>NaN</td>\n",
       "      <td>NaN</td>\n",
       "      <td>NaN</td>\n",
       "      <td>NaN</td>\n",
       "      <td>NaN</td>\n",
       "    </tr>\n",
       "    <tr>\n",
       "      <th>1</th>\n",
       "      <td>northern sub</td>\n",
       "      <td>642</td>\n",
       "      <td>550000</td>\n",
       "      <td>1992</td>\n",
       "      <td>ground-floor</td>\n",
       "      <td>detached</td>\n",
       "      <td>5</td>\n",
       "      <td>4</td>\n",
       "      <td>NaN</td>\n",
       "      <td>NaN</td>\n",
       "      <td>...</td>\n",
       "      <td>False</td>\n",
       "      <td>True</td>\n",
       "      <td>False</td>\n",
       "      <td>True</td>\n",
       "      <td>True</td>\n",
       "      <td>False</td>\n",
       "      <td>False</td>\n",
       "      <td>True</td>\n",
       "      <td>False</td>\n",
       "      <td>True</td>\n",
       "    </tr>\n",
       "    <tr>\n",
       "      <th>2</th>\n",
       "      <td>northern sub</td>\n",
       "      <td>320</td>\n",
       "      <td>500000</td>\n",
       "      <td>2009</td>\n",
       "      <td>ground-floor</td>\n",
       "      <td>detached</td>\n",
       "      <td>2</td>\n",
       "      <td>2</td>\n",
       "      <td>NaN</td>\n",
       "      <td>NaN</td>\n",
       "      <td>...</td>\n",
       "      <td>NaN</td>\n",
       "      <td>NaN</td>\n",
       "      <td>NaN</td>\n",
       "      <td>True</td>\n",
       "      <td>NaN</td>\n",
       "      <td>NaN</td>\n",
       "      <td>NaN</td>\n",
       "      <td>NaN</td>\n",
       "      <td>NaN</td>\n",
       "      <td>NaN</td>\n",
       "    </tr>\n",
       "    <tr>\n",
       "      <th>3</th>\n",
       "      <td>northern sub</td>\n",
       "      <td>95</td>\n",
       "      <td>230000</td>\n",
       "      <td>2007</td>\n",
       "      <td>1</td>\n",
       "      <td>apartment</td>\n",
       "      <td>3</td>\n",
       "      <td>1</td>\n",
       "      <td>NaN</td>\n",
       "      <td>NaN</td>\n",
       "      <td>...</td>\n",
       "      <td>False</td>\n",
       "      <td>True</td>\n",
       "      <td>False</td>\n",
       "      <td>True</td>\n",
       "      <td>True</td>\n",
       "      <td>False</td>\n",
       "      <td>False</td>\n",
       "      <td>False</td>\n",
       "      <td>False</td>\n",
       "      <td>False</td>\n",
       "    </tr>\n",
       "    <tr>\n",
       "      <th>4</th>\n",
       "      <td>northern sub</td>\n",
       "      <td>195</td>\n",
       "      <td>370000</td>\n",
       "      <td>2007</td>\n",
       "      <td>ground-floor</td>\n",
       "      <td>maisonette</td>\n",
       "      <td>4</td>\n",
       "      <td>1</td>\n",
       "      <td>NaN</td>\n",
       "      <td>NaN</td>\n",
       "      <td>...</td>\n",
       "      <td>False</td>\n",
       "      <td>True</td>\n",
       "      <td>False</td>\n",
       "      <td>True</td>\n",
       "      <td>True</td>\n",
       "      <td>False</td>\n",
       "      <td>False</td>\n",
       "      <td>False</td>\n",
       "      <td>False</td>\n",
       "      <td>True</td>\n",
       "    </tr>\n",
       "    <tr>\n",
       "      <th>...</th>\n",
       "      <td>...</td>\n",
       "      <td>...</td>\n",
       "      <td>...</td>\n",
       "      <td>...</td>\n",
       "      <td>...</td>\n",
       "      <td>...</td>\n",
       "      <td>...</td>\n",
       "      <td>...</td>\n",
       "      <td>...</td>\n",
       "      <td>...</td>\n",
       "      <td>...</td>\n",
       "      <td>...</td>\n",
       "      <td>...</td>\n",
       "      <td>...</td>\n",
       "      <td>...</td>\n",
       "      <td>...</td>\n",
       "      <td>...</td>\n",
       "      <td>...</td>\n",
       "      <td>...</td>\n",
       "      <td>...</td>\n",
       "      <td>...</td>\n",
       "    </tr>\n",
       "    <tr>\n",
       "      <th>15441</th>\n",
       "      <td>beesy neighborhood</td>\n",
       "      <td>56</td>\n",
       "      <td>52000</td>\n",
       "      <td>1964</td>\n",
       "      <td>1</td>\n",
       "      <td>apartment</td>\n",
       "      <td>1</td>\n",
       "      <td>0</td>\n",
       "      <td>NaN</td>\n",
       "      <td>NaN</td>\n",
       "      <td>...</td>\n",
       "      <td>False</td>\n",
       "      <td>NaN</td>\n",
       "      <td>NaN</td>\n",
       "      <td>False</td>\n",
       "      <td>False</td>\n",
       "      <td>False</td>\n",
       "      <td>False</td>\n",
       "      <td>False</td>\n",
       "      <td>False</td>\n",
       "      <td>False</td>\n",
       "    </tr>\n",
       "    <tr>\n",
       "      <th>15442</th>\n",
       "      <td>beesy neighborhood</td>\n",
       "      <td>80</td>\n",
       "      <td>75000</td>\n",
       "      <td>1960</td>\n",
       "      <td>3</td>\n",
       "      <td>apartment</td>\n",
       "      <td>2</td>\n",
       "      <td>0</td>\n",
       "      <td>NaN</td>\n",
       "      <td>NaN</td>\n",
       "      <td>...</td>\n",
       "      <td>False</td>\n",
       "      <td>NaN</td>\n",
       "      <td>NaN</td>\n",
       "      <td>False</td>\n",
       "      <td>False</td>\n",
       "      <td>False</td>\n",
       "      <td>False</td>\n",
       "      <td>False</td>\n",
       "      <td>False</td>\n",
       "      <td>False</td>\n",
       "    </tr>\n",
       "    <tr>\n",
       "      <th>15443</th>\n",
       "      <td>beesy neighborhood</td>\n",
       "      <td>69</td>\n",
       "      <td>70000</td>\n",
       "      <td>1975</td>\n",
       "      <td>2</td>\n",
       "      <td>apartment</td>\n",
       "      <td>2</td>\n",
       "      <td>0</td>\n",
       "      <td>NaN</td>\n",
       "      <td>NaN</td>\n",
       "      <td>...</td>\n",
       "      <td>False</td>\n",
       "      <td>NaN</td>\n",
       "      <td>NaN</td>\n",
       "      <td>False</td>\n",
       "      <td>False</td>\n",
       "      <td>False</td>\n",
       "      <td>False</td>\n",
       "      <td>False</td>\n",
       "      <td>False</td>\n",
       "      <td>False</td>\n",
       "    </tr>\n",
       "    <tr>\n",
       "      <th>15445</th>\n",
       "      <td>beesy neighborhood</td>\n",
       "      <td>800</td>\n",
       "      <td>600000</td>\n",
       "      <td>1930</td>\n",
       "      <td>ground-floor</td>\n",
       "      <td>building</td>\n",
       "      <td>1</td>\n",
       "      <td>0</td>\n",
       "      <td>NaN</td>\n",
       "      <td>NaN</td>\n",
       "      <td>...</td>\n",
       "      <td>False</td>\n",
       "      <td>False</td>\n",
       "      <td>False</td>\n",
       "      <td>False</td>\n",
       "      <td>False</td>\n",
       "      <td>False</td>\n",
       "      <td>False</td>\n",
       "      <td>False</td>\n",
       "      <td>False</td>\n",
       "      <td>False</td>\n",
       "    </tr>\n",
       "    <tr>\n",
       "      <th>15446</th>\n",
       "      <td>beesy neighborhood</td>\n",
       "      <td>59</td>\n",
       "      <td>74000</td>\n",
       "      <td>1984</td>\n",
       "      <td>1</td>\n",
       "      <td>apartment</td>\n",
       "      <td>1</td>\n",
       "      <td>1</td>\n",
       "      <td>NaN</td>\n",
       "      <td>2010.0</td>\n",
       "      <td>...</td>\n",
       "      <td>False</td>\n",
       "      <td>True</td>\n",
       "      <td>False</td>\n",
       "      <td>False</td>\n",
       "      <td>False</td>\n",
       "      <td>False</td>\n",
       "      <td>False</td>\n",
       "      <td>False</td>\n",
       "      <td>False</td>\n",
       "      <td>False</td>\n",
       "    </tr>\n",
       "  </tbody>\n",
       "</table>\n",
       "<p>14751 rows × 53 columns</p>\n",
       "</div>"
      ],
      "text/plain": [
       "           geography_name  sq_meters   price  year_of_construction  \\\n",
       "0            northern sub        567  200000                  2005   \n",
       "1            northern sub        642  550000                  1992   \n",
       "2            northern sub        320  500000                  2009   \n",
       "3            northern sub         95  230000                  2007   \n",
       "4            northern sub        195  370000                  2007   \n",
       "...                   ...        ...     ...                   ...   \n",
       "15441  beesy neighborhood         56   52000                  1964   \n",
       "15442  beesy neighborhood         80   75000                  1960   \n",
       "15443  beesy neighborhood         69   70000                  1975   \n",
       "15445  beesy neighborhood        800  600000                  1930   \n",
       "15446  beesy neighborhood         59   74000                  1984   \n",
       "\n",
       "              floor     subtype  rooms  no_of_bathrooms energy_class  \\\n",
       "0                 1   apartment      4                0          NaN   \n",
       "1      ground-floor    detached      5                4          NaN   \n",
       "2      ground-floor    detached      2                2          NaN   \n",
       "3                 1   apartment      3                1          NaN   \n",
       "4      ground-floor  maisonette      4                1          NaN   \n",
       "...             ...         ...    ...              ...          ...   \n",
       "15441             1   apartment      1                0          NaN   \n",
       "15442             3   apartment      2                0          NaN   \n",
       "15443             2   apartment      2                0          NaN   \n",
       "15445  ground-floor    building      1                0          NaN   \n",
       "15446             1   apartment      1                1          NaN   \n",
       "\n",
       "       renovation_year  ...  neoclassic double_glass  for_commercial_use  \\\n",
       "0                  NaN  ...         NaN          NaN                 NaN   \n",
       "1                  NaN  ...       False         True               False   \n",
       "2                  NaN  ...         NaN          NaN                 NaN   \n",
       "3                  NaN  ...       False         True               False   \n",
       "4                  NaN  ...       False         True               False   \n",
       "...                ...  ...         ...          ...                 ...   \n",
       "15441              NaN  ...       False          NaN                 NaN   \n",
       "15442              NaN  ...       False          NaN                 NaN   \n",
       "15443              NaN  ...       False          NaN                 NaN   \n",
       "15445              NaN  ...       False        False               False   \n",
       "15446           2010.0  ...       False         True               False   \n",
       "\n",
       "       fireplace  elevator satellite solar_heater  attic   pool playroom  \n",
       "0            NaN       NaN       NaN          NaN    NaN    NaN      NaN  \n",
       "1           True      True     False        False   True  False     True  \n",
       "2           True       NaN       NaN          NaN    NaN    NaN      NaN  \n",
       "3           True      True     False        False  False  False    False  \n",
       "4           True      True     False        False  False  False     True  \n",
       "...          ...       ...       ...          ...    ...    ...      ...  \n",
       "15441      False     False     False        False  False  False    False  \n",
       "15442      False     False     False        False  False  False    False  \n",
       "15443      False     False     False        False  False  False    False  \n",
       "15445      False     False     False        False  False  False    False  \n",
       "15446      False     False     False        False  False  False    False  \n",
       "\n",
       "[14751 rows x 53 columns]"
      ]
     },
     "execution_count": 493,
     "metadata": {},
     "output_type": "execute_result"
    }
   ],
   "source": [
    "df_reg"
   ]
  },
  {
   "cell_type": "code",
   "execution_count": 494,
   "id": "9abb13bc-4e3e-4a29-8ee8-06b845d8d122",
   "metadata": {},
   "outputs": [],
   "source": [
    "df_reg['Price'] = df_reg['price']"
   ]
  },
  {
   "cell_type": "code",
   "execution_count": 495,
   "id": "765cb663-fe3b-4ced-ada3-57f860d01958",
   "metadata": {},
   "outputs": [],
   "source": [
    "df_reg = df_reg.drop(['price'], axis=1)"
   ]
  },
  {
   "cell_type": "code",
   "execution_count": 496,
   "id": "f3bca588-0cd0-4005-9bf7-92317e9909b1",
   "metadata": {},
   "outputs": [],
   "source": [
    "# df_reg"
   ]
  },
  {
   "cell_type": "code",
   "execution_count": 497,
   "id": "c775dc1a-65c1-4f68-b0e3-aadb8b7ce4e5",
   "metadata": {},
   "outputs": [],
   "source": [
    "df_reg = df_reg.drop(['renovation_year','energy_class','equipped','accessible_for_disabled'], axis=1)"
   ]
  },
  {
   "cell_type": "code",
   "execution_count": 498,
   "id": "9222ae7a-1a4c-4b6d-872c-8b9189191d8b",
   "metadata": {},
   "outputs": [],
   "source": [
    "df_reg = df_reg.dropna()"
   ]
  },
  {
   "cell_type": "code",
   "execution_count": 500,
   "id": "4729b0e4-b159-4446-a8be-8b5110a84347",
   "metadata": {},
   "outputs": [],
   "source": [
    "# df_reg.select_dtypes(include=['object']).columns.tolist()"
   ]
  },
  {
   "cell_type": "code",
   "execution_count": 501,
   "id": "4ede80cf-54e1-4c63-befc-b5cec23a91e6",
   "metadata": {},
   "outputs": [],
   "source": [
    "lista_categorical_variables = ['geography_name','floor',\n",
    " 'subtype',\n",
    " 'ad_type',\n",
    " 'lux_home',\n",
    " 'new_development',\n",
    " 'garage',\n",
    " 'furnished',\n",
    " 'preserved',\n",
    " 'investment',\n",
    " 'unfinished',\n",
    " 'heating_under_floor',\n",
    " 'renovated',\n",
    " 'requires_renovation',\n",
    " 'airy',\n",
    " 'bright',\n",
    " 'painted',\n",
    " 'garden',\n",
    " 'ac',\n",
    " 'storage',\n",
    " 'balcony',\n",
    " 'internal_stairs',\n",
    " 'view',\n",
    " 'secure_door',\n",
    " 'penthouse',\n",
    " 'alarm',\n",
    " 'corner',\n",
    " 'holiday_home',\n",
    " 'student_home',\n",
    " 'night_power',\n",
    " 'neoclassic',\n",
    " 'double_glass',\n",
    " 'for_commercial_use',\n",
    " 'fireplace',\n",
    " 'elevator',\n",
    " 'satellite','solar_heater','attic','pool', 'playroom']"
   ]
  },
  {
   "cell_type": "code",
   "execution_count": 502,
   "id": "9d894279-9987-464b-ae80-fd065f352669",
   "metadata": {},
   "outputs": [],
   "source": [
    "from sklearn.preprocessing import OrdinalEncoder\n",
    "\n",
    "ord_enc = OrdinalEncoder()\n",
    "\n",
    "for i in lista_categorical_variables:\n",
    "    df_reg[i] = ord_enc.fit_transform(df_reg[[i]])"
   ]
  },
  {
   "cell_type": "code",
   "execution_count": 503,
   "id": "d4d8b0ee-f023-4036-8f84-67dbdd557915",
   "metadata": {},
   "outputs": [
    {
     "data": {
      "image/png": "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\n",
      "text/plain": [
       "<Figure size 1080x576 with 1 Axes>"
      ]
     },
     "metadata": {
      "needs_background": "light"
     },
     "output_type": "display_data"
    }
   ],
   "source": [
    "import pandas as pd\n",
    "import numpy as np\n",
    "from sklearn.ensemble import ExtraTreesClassifier\n",
    "import matplotlib.pyplot as plt\n",
    "\n",
    "\n",
    "data = df_reg\n",
    "X = data.iloc[:,0:48]\n",
    "y = data.iloc[:,-1]   \n",
    "\n",
    "model = ExtraTreesClassifier()\n",
    "model.fit(X,y)\n",
    "\n",
    "#print(model.feature_importances_)\n",
    "\n",
    "feat_importances = pd.Series(model.feature_importances_, index=X.columns)\n",
    "feat_importances.nlargest(20).plot(kind='barh',figsize=(15, 8))\n",
    "\n",
    "plt.show()"
   ]
  },
  {
   "cell_type": "markdown",
   "id": "eb8ef4ab-702d-431a-a6fe-cb6bf81831b5",
   "metadata": {},
   "source": [
    "### For our analysis we will keep the top 5"
   ]
  },
  {
   "cell_type": "markdown",
   "id": "575a10d8-baf5-45fb-91d0-bf07e76a3335",
   "metadata": {},
   "source": [
    "### Build a model that valuates each residential property"
   ]
  },
  {
   "cell_type": "code",
   "execution_count": 504,
   "id": "06d7a869-5e88-46a1-bf06-9a182b3c6656",
   "metadata": {},
   "outputs": [],
   "source": [
    "from sklearn.datasets import make_blobs\n",
    "from matplotlib.colors import ListedColormap\n",
    "\n",
    "import tensorflow as tf\n",
    "from tensorflow import keras\n",
    "from tensorflow.keras import optimizers\n",
    "import random\n",
    "\n",
    "from sklearn.model_selection import cross_val_score\n",
    "from sklearn.multiclass import OneVsRestClassifier\n",
    "from sklearn.svm import SVC\n",
    "\n",
    "from sklearn.ensemble import RandomForestClassifier\n",
    "from sklearn.model_selection import train_test_split\n",
    "from sklearn.metrics import classification_report\n",
    "\n",
    "from sklearn import metrics\n",
    "\n",
    "from sklearn.dummy import DummyClassifier"
   ]
  },
  {
   "cell_type": "markdown",
   "id": "6be014d3-3c9a-4ba1-a5b3-69891f5f5cc3",
   "metadata": {},
   "source": [
    "### As we know NN dont like the unormalized data and work better with the normalized, so we will use the Standard Scaler, to normalize the data."
   ]
  },
  {
   "cell_type": "code",
   "execution_count": 505,
   "id": "92caec47-629e-4cfe-a3a3-037f64ca041b",
   "metadata": {},
   "outputs": [],
   "source": [
    "from sklearn.preprocessing import StandardScaler\n",
    "\n",
    "scaler = StandardScaler()\n",
    "X = scaler.fit_transform(df_reg)\n",
    "scaled_df_features = pd.DataFrame(X, index=df_reg.index, columns=df_reg.columns)"
   ]
  },
  {
   "cell_type": "code",
   "execution_count": 506,
   "id": "55d2dab2-16ae-4eac-acb5-a0e25c55b8ad",
   "metadata": {},
   "outputs": [],
   "source": [
    "# scaled_df_features"
   ]
  },
  {
   "cell_type": "markdown",
   "id": "b9d1c085-14a6-492a-8dcc-e40b80a71971",
   "metadata": {},
   "source": [
    "### Now i will create a dataset which consist of only the top 5 most important attributes, that we found before"
   ]
  },
  {
   "cell_type": "code",
   "execution_count": 507,
   "id": "914c1615-5507-4732-953a-344f1a320992",
   "metadata": {},
   "outputs": [],
   "source": [
    "df_reg_top = scaled_df_features[['sq_meters','year_of_construction','floor','rooms','no_of_bathrooms','Price']]"
   ]
  },
  {
   "cell_type": "code",
   "execution_count": 508,
   "id": "f0859d48-2de9-4237-9293-02d6fcd25abe",
   "metadata": {},
   "outputs": [],
   "source": [
    "# df_reg_top"
   ]
  },
  {
   "cell_type": "code",
   "execution_count": 509,
   "id": "ff19fbdf-9d74-4016-9f8a-77ec19b2d79f",
   "metadata": {},
   "outputs": [
    {
     "name": "stdout",
     "output_type": "stream",
     "text": [
      "Epoch 1/50\n",
      "106/106 [==============================] - 1s 2ms/step - loss: 0.3242 - accuracy: 0.7739\n",
      "Epoch 2/50\n",
      "106/106 [==============================] - 0s 1ms/step - loss: 0.1746 - accuracy: 0.8814\n",
      "Epoch 3/50\n",
      "106/106 [==============================] - 0s 1ms/step - loss: 0.1649 - accuracy: 0.9090\n",
      "Epoch 4/50\n",
      "106/106 [==============================] - 0s 1ms/step - loss: 0.1445 - accuracy: 0.9169\n",
      "Epoch 5/50\n",
      "106/106 [==============================] - 0s 1ms/step - loss: 0.0942 - accuracy: 0.9205\n",
      "Epoch 6/50\n",
      "106/106 [==============================] - 0s 1ms/step - loss: 0.0856 - accuracy: 0.9240\n",
      "Epoch 7/50\n",
      "106/106 [==============================] - 0s 2ms/step - loss: 0.0862 - accuracy: 0.9238\n",
      "Epoch 8/50\n",
      "106/106 [==============================] - 0s 2ms/step - loss: 0.0794 - accuracy: 0.9243\n",
      "Epoch 9/50\n",
      "106/106 [==============================] - 0s 2ms/step - loss: 0.0804 - accuracy: 0.9258\n",
      "Epoch 10/50\n",
      "106/106 [==============================] - 0s 2ms/step - loss: 0.0804 - accuracy: 0.9255\n",
      "Epoch 11/50\n",
      "106/106 [==============================] - 0s 2ms/step - loss: 0.0737 - accuracy: 0.9263\n",
      "Epoch 12/50\n",
      "106/106 [==============================] - 0s 2ms/step - loss: 0.0999 - accuracy: 0.9263\n",
      "Epoch 13/50\n",
      "106/106 [==============================] - 0s 2ms/step - loss: 0.0891 - accuracy: 0.9265\n",
      "Epoch 14/50\n",
      "106/106 [==============================] - 0s 2ms/step - loss: 0.0881 - accuracy: 0.9260\n",
      "Epoch 15/50\n",
      "106/106 [==============================] - 0s 1ms/step - loss: 0.0726 - accuracy: 0.9273\n",
      "Epoch 16/50\n",
      "106/106 [==============================] - 0s 2ms/step - loss: 0.0725 - accuracy: 0.9271\n",
      "Epoch 17/50\n",
      "106/106 [==============================] - 0s 2ms/step - loss: 0.0783 - accuracy: 0.9273\n",
      "Epoch 18/50\n",
      "106/106 [==============================] - 0s 2ms/step - loss: 0.0738 - accuracy: 0.9278\n",
      "Epoch 19/50\n",
      "106/106 [==============================] - 0s 2ms/step - loss: 0.0791 - accuracy: 0.9271\n",
      "Epoch 20/50\n",
      "106/106 [==============================] - 0s 2ms/step - loss: 0.0723 - accuracy: 0.9276\n",
      "Epoch 21/50\n",
      "106/106 [==============================] - 0s 2ms/step - loss: 0.0717 - accuracy: 0.9281\n",
      "Epoch 22/50\n",
      "106/106 [==============================] - 0s 2ms/step - loss: 0.0717 - accuracy: 0.9281\n",
      "Epoch 23/50\n",
      "106/106 [==============================] - 0s 2ms/step - loss: 0.0751 - accuracy: 0.9281\n",
      "Epoch 24/50\n",
      "106/106 [==============================] - 0s 2ms/step - loss: 0.0717 - accuracy: 0.9281\n",
      "Epoch 25/50\n",
      "106/106 [==============================] - 0s 2ms/step - loss: 0.0733 - accuracy: 0.9278\n",
      "Epoch 26/50\n",
      "106/106 [==============================] - 0s 2ms/step - loss: 0.0714 - accuracy: 0.9286\n",
      "Epoch 27/50\n",
      "106/106 [==============================] - 0s 2ms/step - loss: 0.0722 - accuracy: 0.9281\n",
      "Epoch 28/50\n",
      "106/106 [==============================] - 0s 2ms/step - loss: 0.0718 - accuracy: 0.9281\n",
      "Epoch 29/50\n",
      "106/106 [==============================] - 0s 2ms/step - loss: 0.0730 - accuracy: 0.9283\n",
      "Epoch 30/50\n",
      "106/106 [==============================] - 0s 2ms/step - loss: 0.0715 - accuracy: 0.9286\n",
      "Epoch 31/50\n",
      "106/106 [==============================] - 0s 1ms/step - loss: 0.0718 - accuracy: 0.9281\n",
      "Epoch 32/50\n",
      "106/106 [==============================] - 0s 1ms/step - loss: 0.0715 - accuracy: 0.9286\n",
      "Epoch 33/50\n",
      "106/106 [==============================] - 0s 2ms/step - loss: 0.0741 - accuracy: 0.9281\n",
      "Epoch 34/50\n",
      "106/106 [==============================] - 0s 2ms/step - loss: 0.0714 - accuracy: 0.9286\n",
      "Epoch 35/50\n",
      "106/106 [==============================] - 0s 2ms/step - loss: 0.0716 - accuracy: 0.9283\n",
      "Epoch 36/50\n",
      "106/106 [==============================] - 0s 2ms/step - loss: 0.0720 - accuracy: 0.9283\n",
      "Epoch 37/50\n",
      "106/106 [==============================] - 0s 2ms/step - loss: 0.0719 - accuracy: 0.9283\n",
      "Epoch 38/50\n",
      "106/106 [==============================] - 0s 2ms/step - loss: 0.0715 - accuracy: 0.9283\n",
      "Epoch 39/50\n",
      "106/106 [==============================] - 0s 2ms/step - loss: 0.0715 - accuracy: 0.9283\n",
      "Epoch 40/50\n",
      "106/106 [==============================] - 0s 2ms/step - loss: 0.0714 - accuracy: 0.9286\n",
      "Epoch 41/50\n",
      "106/106 [==============================] - 0s 2ms/step - loss: 0.0715 - accuracy: 0.9286\n",
      "Epoch 42/50\n",
      "106/106 [==============================] - 0s 2ms/step - loss: 0.0714 - accuracy: 0.9286\n",
      "Epoch 43/50\n",
      "106/106 [==============================] - 0s 2ms/step - loss: 0.0725 - accuracy: 0.9283\n",
      "Epoch 44/50\n",
      "106/106 [==============================] - 0s 2ms/step - loss: 0.0715 - accuracy: 0.9286\n",
      "Epoch 45/50\n",
      "106/106 [==============================] - 0s 2ms/step - loss: 0.0715 - accuracy: 0.9286\n",
      "Epoch 46/50\n",
      "106/106 [==============================] - 0s 2ms/step - loss: 0.0717 - accuracy: 0.9283\n",
      "Epoch 47/50\n",
      "106/106 [==============================] - 0s 2ms/step - loss: 0.0714 - accuracy: 0.9286\n",
      "Epoch 48/50\n",
      "106/106 [==============================] - 0s 2ms/step - loss: 0.0714 - accuracy: 0.9286\n",
      "Epoch 49/50\n",
      "106/106 [==============================] - 0s 2ms/step - loss: 0.0714 - accuracy: 0.9286\n",
      "Epoch 50/50\n",
      "106/106 [==============================] - 0s 2ms/step - loss: 0.0714 - accuracy: 0.9286\n",
      "106/106 [==============================] - 0s 1ms/step - loss: 0.0714 - accuracy: 0.9286\n",
      "Accuracy: 0.9285717010498047\n"
     ]
    }
   ],
   "source": [
    "import tensorflow as tf\n",
    "\n",
    "df = df_reg_top\n",
    "\n",
    "X = df.loc[:,'sq_meters':'no_of_bathrooms']\n",
    "y = df['Price']\n",
    "\n",
    "\n",
    "y = tf.keras.utils.to_categorical(y)\n",
    "\n",
    "X_train, X_test, y_train, y_test = train_test_split(X, y, test_size=0.5, random_state = 0)\n",
    "\n",
    "model = tf.keras.Sequential()\n",
    "model.add(tf.keras.layers.Dense(5, activation='relu', input_shape=(5,)))\n",
    "model.add(tf.keras.layers.Dropout(.5))\n",
    "model.add(tf.keras.layers.Dense(1, activation='relu'))\n",
    "\n",
    "\n",
    "sgd = optimizers.SGD(learning_rate=0.1)\n",
    "\n",
    "model.compile(loss='mean_squared_error',\n",
    "              optimizer='adam',\n",
    "              metrics=['accuracy'])\n",
    "\n",
    "model.fit(X_train, y_train, epochs=50, batch_size=32)\n",
    "\n",
    "loss, accuracy = model.evaluate(X_test, y_test, batch_size=32)\n",
    "print(\"Accuracy:\", accuracy)"
   ]
  },
  {
   "cell_type": "code",
   "execution_count": 510,
   "id": "f566c6ce-06f5-4d0d-a2eb-46d00cad0cc9",
   "metadata": {},
   "outputs": [
    {
     "name": "stdout",
     "output_type": "stream",
     "text": [
      "3380 train examples\n",
      "3381 validation examples\n",
      "3381 test examples\n"
     ]
    }
   ],
   "source": [
    "print(len(X_train), 'train examples')\n",
    "print(len(y_test), 'validation examples')\n",
    "print(len(X_test), 'test examples')"
   ]
  },
  {
   "cell_type": "code",
   "execution_count": 511,
   "id": "d5d6c965-d237-4b3c-a8c3-aeb756229e02",
   "metadata": {},
   "outputs": [
    {
     "name": "stdout",
     "output_type": "stream",
     "text": [
      "Model: \"sequential_23\"\n",
      "_________________________________________________________________\n",
      " Layer (type)                Output Shape              Param #   \n",
      "=================================================================\n",
      " dense_46 (Dense)            (None, 5)                 30        \n",
      "                                                                 \n",
      " dropout_23 (Dropout)        (None, 5)                 0         \n",
      "                                                                 \n",
      " dense_47 (Dense)            (None, 1)                 6         \n",
      "                                                                 \n",
      "=================================================================\n",
      "Total params: 36\n",
      "Trainable params: 36\n",
      "Non-trainable params: 0\n",
      "_________________________________________________________________\n"
     ]
    }
   ],
   "source": [
    "model.summary()"
   ]
  },
  {
   "cell_type": "markdown",
   "id": "6f7de9f4-a865-4607-964c-f1bcd7e61a53",
   "metadata": {},
   "source": [
    "### As we can see, we have a 92% accuracy on the price prediction using the NN model we builded before\n",
    "### Its worth to mention that our dataset has 6761 * 6 = 40,566 parameters, so by using only 36 for our NN, we are sure that we dont have any problems with overfitting"
   ]
  },
  {
   "cell_type": "code",
   "execution_count": null,
   "id": "e6803597-9033-4904-8eb6-ce7bb02e1a52",
   "metadata": {},
   "outputs": [],
   "source": []
  },
  {
   "cell_type": "markdown",
   "id": "174f3fd9-bacf-4bd8-bb08-7970c353fe46",
   "metadata": {},
   "source": [
    "### Also as we can see here , we are using the normalized data for the linear regresion.\n",
    "### As we can see by a linear model we can explain the 56% of our data by using only the top 5 most important attributes, that we found before"
   ]
  },
  {
   "cell_type": "code",
   "execution_count": 512,
   "id": "eb16663a-7245-4892-bdf2-f298550fff31",
   "metadata": {},
   "outputs": [],
   "source": [
    "import pandas as pd\n",
    "import numpy as np\n",
    "import scipy as sp\n",
    "import matplotlib.pyplot as plt\n",
    "import matplotlib\n",
    "import seaborn as sns\n",
    "import statsmodels.formula.api as smf\n",
    "import datetime\n",
    "import matplotlib.dates as mdates"
   ]
  },
  {
   "cell_type": "code",
   "execution_count": 513,
   "id": "b9280e8a-5190-4c90-94f9-79459a4f7ead",
   "metadata": {},
   "outputs": [
    {
     "data": {
      "text/html": [
       "<table class=\"simpletable\">\n",
       "<caption>OLS Regression Results</caption>\n",
       "<tr>\n",
       "  <th>Dep. Variable:</th>          <td>Price</td>      <th>  R-squared:         </th> <td>   0.568</td> \n",
       "</tr>\n",
       "<tr>\n",
       "  <th>Model:</th>                   <td>OLS</td>       <th>  Adj. R-squared:    </th> <td>   0.568</td> \n",
       "</tr>\n",
       "<tr>\n",
       "  <th>Method:</th>             <td>Least Squares</td>  <th>  F-statistic:       </th> <td>   1776.</td> \n",
       "</tr>\n",
       "<tr>\n",
       "  <th>Date:</th>             <td>Fri, 03 Feb 2023</td> <th>  Prob (F-statistic):</th>  <td>  0.00</td>  \n",
       "</tr>\n",
       "<tr>\n",
       "  <th>Time:</th>                 <td>16:30:34</td>     <th>  Log-Likelihood:    </th> <td> -6756.0</td> \n",
       "</tr>\n",
       "<tr>\n",
       "  <th>No. Observations:</th>      <td>  6761</td>      <th>  AIC:               </th> <td>1.352e+04</td>\n",
       "</tr>\n",
       "<tr>\n",
       "  <th>Df Residuals:</th>          <td>  6755</td>      <th>  BIC:               </th> <td>1.356e+04</td>\n",
       "</tr>\n",
       "<tr>\n",
       "  <th>Df Model:</th>              <td>     5</td>      <th>                     </th>     <td> </td>    \n",
       "</tr>\n",
       "<tr>\n",
       "  <th>Covariance Type:</th>      <td>nonrobust</td>    <th>                     </th>     <td> </td>    \n",
       "</tr>\n",
       "</table>\n",
       "<table class=\"simpletable\">\n",
       "<tr>\n",
       "            <td></td>              <th>coef</th>     <th>std err</th>      <th>t</th>      <th>P>|t|</th>  <th>[0.025</th>    <th>0.975]</th>  \n",
       "</tr>\n",
       "<tr>\n",
       "  <th>Intercept</th>            <td> 1.099e-16</td> <td>    0.008</td> <td> 1.37e-14</td> <td> 1.000</td> <td>   -0.016</td> <td>    0.016</td>\n",
       "</tr>\n",
       "<tr>\n",
       "  <th>sq_meters</th>            <td>    0.6819</td> <td>    0.011</td> <td>   63.572</td> <td> 0.000</td> <td>    0.661</td> <td>    0.703</td>\n",
       "</tr>\n",
       "<tr>\n",
       "  <th>year_of_construction</th> <td>    0.0191</td> <td>    0.008</td> <td>    2.381</td> <td> 0.017</td> <td>    0.003</td> <td>    0.035</td>\n",
       "</tr>\n",
       "<tr>\n",
       "  <th>floor</th>                <td>   -0.0325</td> <td>    0.009</td> <td>   -3.717</td> <td> 0.000</td> <td>   -0.050</td> <td>   -0.015</td>\n",
       "</tr>\n",
       "<tr>\n",
       "  <th>rooms</th>                <td>    0.0030</td> <td>    0.011</td> <td>    0.260</td> <td> 0.795</td> <td>   -0.019</td> <td>    0.025</td>\n",
       "</tr>\n",
       "<tr>\n",
       "  <th>no_of_bathrooms</th>      <td>    0.1290</td> <td>    0.011</td> <td>   11.439</td> <td> 0.000</td> <td>    0.107</td> <td>    0.151</td>\n",
       "</tr>\n",
       "</table>\n",
       "<table class=\"simpletable\">\n",
       "<tr>\n",
       "  <th>Omnibus:</th>       <td>4552.277</td> <th>  Durbin-Watson:     </th>  <td>   1.665</td> \n",
       "</tr>\n",
       "<tr>\n",
       "  <th>Prob(Omnibus):</th>  <td> 0.000</td>  <th>  Jarque-Bera (JB):  </th> <td>330467.572</td>\n",
       "</tr>\n",
       "<tr>\n",
       "  <th>Skew:</th>           <td> 2.494</td>  <th>  Prob(JB):          </th>  <td>    0.00</td> \n",
       "</tr>\n",
       "<tr>\n",
       "  <th>Kurtosis:</th>       <td>36.885</td>  <th>  Cond. No.          </th>  <td>    2.71</td> \n",
       "</tr>\n",
       "</table><br/><br/>Notes:<br/>[1] Standard Errors assume that the covariance matrix of the errors is correctly specified."
      ],
      "text/plain": [
       "<class 'statsmodels.iolib.summary.Summary'>\n",
       "\"\"\"\n",
       "                            OLS Regression Results                            \n",
       "==============================================================================\n",
       "Dep. Variable:                  Price   R-squared:                       0.568\n",
       "Model:                            OLS   Adj. R-squared:                  0.568\n",
       "Method:                 Least Squares   F-statistic:                     1776.\n",
       "Date:                Fri, 03 Feb 2023   Prob (F-statistic):               0.00\n",
       "Time:                        16:30:34   Log-Likelihood:                -6756.0\n",
       "No. Observations:                6761   AIC:                         1.352e+04\n",
       "Df Residuals:                    6755   BIC:                         1.356e+04\n",
       "Df Model:                           5                                         \n",
       "Covariance Type:            nonrobust                                         \n",
       "========================================================================================\n",
       "                           coef    std err          t      P>|t|      [0.025      0.975]\n",
       "----------------------------------------------------------------------------------------\n",
       "Intercept             1.099e-16      0.008   1.37e-14      1.000      -0.016       0.016\n",
       "sq_meters                0.6819      0.011     63.572      0.000       0.661       0.703\n",
       "year_of_construction     0.0191      0.008      2.381      0.017       0.003       0.035\n",
       "floor                   -0.0325      0.009     -3.717      0.000      -0.050      -0.015\n",
       "rooms                    0.0030      0.011      0.260      0.795      -0.019       0.025\n",
       "no_of_bathrooms          0.1290      0.011     11.439      0.000       0.107       0.151\n",
       "==============================================================================\n",
       "Omnibus:                     4552.277   Durbin-Watson:                   1.665\n",
       "Prob(Omnibus):                  0.000   Jarque-Bera (JB):           330467.572\n",
       "Skew:                           2.494   Prob(JB):                         0.00\n",
       "Kurtosis:                      36.885   Cond. No.                         2.71\n",
       "==============================================================================\n",
       "\n",
       "Notes:\n",
       "[1] Standard Errors assume that the covariance matrix of the errors is correctly specified.\n",
       "\"\"\""
      ]
     },
     "execution_count": 513,
     "metadata": {},
     "output_type": "execute_result"
    }
   ],
   "source": [
    "ols_mod_1 = smf.ols(\"Price ~ sq_meters + year_of_construction + floor + rooms + no_of_bathrooms\", data=df_reg_top)\n",
    "ols_res_1 = ols_mod_1.fit()\n",
    "ols_res_1.summary()"
   ]
  },
  {
   "cell_type": "code",
   "execution_count": null,
   "id": "06fb1501-e17b-48e8-b5b3-c0f868095e87",
   "metadata": {},
   "outputs": [],
   "source": []
  },
  {
   "cell_type": "markdown",
   "id": "0caa0424-bebb-41f3-bab4-22cbff29eb7d",
   "metadata": {},
   "source": [
    "### Thank you for your time and consideration"
   ]
  },
  {
   "cell_type": "code",
   "execution_count": null,
   "id": "b4fc69c1-6871-4b6f-af2d-2f9a60b07b59",
   "metadata": {},
   "outputs": [],
   "source": []
  }
 ],
 "metadata": {
  "kernelspec": {
   "display_name": "Python 3 (ipykernel)",
   "language": "python",
   "name": "python3"
  },
  "language_info": {
   "codemirror_mode": {
    "name": "ipython",
    "version": 3
   },
   "file_extension": ".py",
   "mimetype": "text/x-python",
   "name": "python",
   "nbconvert_exporter": "python",
   "pygments_lexer": "ipython3",
   "version": "3.9.12"
  }
 },
 "nbformat": 4,
 "nbformat_minor": 5
}
